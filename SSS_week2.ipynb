{
 "cells": [
  {
   "cell_type": "code",
   "execution_count": null,
   "metadata": {},
   "outputs": [],
   "source": [
    "import pandas as pd\n",
    "import matplotlib.pyplot as plt\n",
    "import seaborn as sns\n",
    "\n",
    "# Read the CSV files into DataFrames\n",
    "data1 = pd.read_csv('data_part_1.csv')\n",
    "data2 = pd.read_csv('data_part_2.csv')\n",
    "\n",
    "# Check the shape (number of rows and columns) of both datasets\n",
    "print(data1.shape)\n",
    "print(data2.shape)"
   ]
  },
  {
   "cell_type": "code",
   "execution_count": null,
   "metadata": {},
   "outputs": [],
   "source": [
    "# Check the column names of both datasets\n",
    "columns_data1 = set(data1.columns)\n",
    "columns_data2 = set(data2.columns)\n",
    "\n",
    "# Find differences in column names\n",
    "only_in_data1 = columns_data1 - columns_data2\n",
    "only_in_data2 = columns_data2 - columns_data1\n",
    "\n",
    "print(f\"Only in data1: {only_in_data1}\")\n",
    "print(f\"Only in data2: {only_in_data2}\")\n",
    "\n",
    "# Get common columns between the two datasets\n",
    "common_columns = list(set(data1.columns) & set(data2.columns))\n",
    "\n",
    "# Extract common columns in the order they appear in data1\n",
    "common_columns = [col for col in data1.columns if col in common_columns]\n",
    "\n",
    "data1_aligned = data1[common_columns]\n",
    "data2_aligned = data2[common_columns]\n",
    "\n",
    "# Merge the two datasets\n",
    "merged_data = pd.concat([data1_aligned, data2_aligned], ignore_index=True)\n",
    "merged_data = merged_data.drop(merged_data.columns[0], axis=1)\n",
    "\n",
    "# Check the shape of the merged dataset\n",
    "print(merged_data.shape)\n",
    "print(f\"Number of observations: {merged_data.shape[0]}\")\n"
   ]
  },
  {
   "cell_type": "code",
   "execution_count": null,
   "metadata": {},
   "outputs": [],
   "source": [
    "\n",
    "# Select the traits to display\n",
    "data_to_plot = merged_data.iloc[:, 0:20]  \n",
    "\n",
    "# Display statistical summary of the traits\n",
    "summary_stats = data_to_plot.describe()\n",
    "summary_stats = summary_stats.transpose()\n",
    "summary_stats"
   ]
  },
  {
   "cell_type": "code",
   "execution_count": null,
   "metadata": {},
   "outputs": [],
   "source": [
    "\n",
    "# Plot histplots for each trait\n",
    "fig, axes = plt.subplots(5, 4, figsize=(10, 10))  \n",
    "axes = axes.flatten()  \n",
    "\n",
    "for i, col in enumerate(data_to_plot.columns):\n",
    "    axes[i].hist(data_to_plot[col], bins=30, color='blue', alpha=0.7)  \n",
    "    axes[i].set_title(f'{col}')  \n",
    "plt.tight_layout()\n",
    "plt.show()"
   ]
  },
  {
   "cell_type": "code",
   "execution_count": null,
   "metadata": {},
   "outputs": [],
   "source": [
    "\n",
    "# Plot boxplots for each trait\n",
    "fig, axes = plt.subplots(5, 4, figsize=(10, 10))  \n",
    "axes = axes.flatten()\n",
    "\n",
    "for i, col in enumerate(data_to_plot.columns):\n",
    "    data_to_plot[col].plot(kind='box', ax=axes[i], title=f'{col}') \n",
    "\n",
    "plt.tight_layout()\n",
    "plt.show()\n"
   ]
  },
  {
   "cell_type": "code",
   "execution_count": null,
   "metadata": {},
   "outputs": [],
   "source": [
    "\n",
    "# Select spectral data for plotting\n",
    "subset_data = merged_data.iloc[:, 20:]  # Band data\n",
    "\n",
    "# Plot heatmap of spectral data\n",
    "plt.figure(figsize=(12, 8))\n",
    "sns.heatmap(subset_data, cmap='viridis', cbar=True)\n",
    "plt.title('Heatmap of Hyperspectral Data')\n",
    "plt.xlabel('Bands')\n",
    "plt.ylabel('Samples')\n",
    "plt.show()"
   ]
  },
  {
   "cell_type": "code",
   "execution_count": null,
   "metadata": {},
   "outputs": [],
   "source": [
    "\n",
    "# Plotting superimposed spectral curves for the first 10 samples\n",
    "samples_to_plot = merged_data.sample(10).iloc[:, 20:]  \n",
    "wavelengths = merged_data.columns[20:]\n",
    "\n",
    "plt.figure(figsize=(10, 6))\n",
    "\n",
    "for i, row in samples_to_plot.iterrows():\n",
    "    plt.plot(wavelengths, row, label=f'Sample {i+1}')\n",
    "\n",
    "plt.title('Overlay of Spectral Curves for First 10 Samples')\n",
    "plt.xlabel('Wavelength (nm)')\n",
    "plt.ylabel('Reflectance')\n",
    "plt.legend(loc='upper right')\n",
    "plt.show()"
   ]
  },
  {
   "cell_type": "code",
   "execution_count": null,
   "metadata": {},
   "outputs": [],
   "source": []
  }
 ],
 "metadata": {
  "kernelspec": {
   "display_name": "venv",
   "language": "python",
   "name": "python3"
  },
  "language_info": {
   "codemirror_mode": {
    "name": "ipython",
    "version": 3
   },
   "file_extension": ".py",
   "mimetype": "text/x-python",
   "name": "python",
   "nbconvert_exporter": "python",
   "pygments_lexer": "ipython3",
   "version": "3.10.13"
  }
 },
 "nbformat": 4,
 "nbformat_minor": 2
}
